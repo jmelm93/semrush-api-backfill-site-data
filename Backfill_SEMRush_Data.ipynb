{
  "nbformat": 4,
  "nbformat_minor": 0,
  "metadata": {
    "colab": {
      "name": "Backfill_SEMRush_Data.ipynb",
      "provenance": [],
      "collapsed_sections": [],
      "authorship_tag": "ABX9TyPHQb7uYjKR9oLdnSWAgk51",
      "include_colab_link": true
    },
    "kernelspec": {
      "name": "python3",
      "display_name": "Python 3"
    },
    "language_info": {
      "name": "python"
    }
  },
  "cells": [
    {
      "cell_type": "markdown",
      "metadata": {
        "id": "view-in-github",
        "colab_type": "text"
      },
      "source": [
        "<a href=\"https://colab.research.google.com/github/jmelm93/semrush-api-backfill-site-data/blob/main/Backfill_SEMRush_Data.ipynb\" target=\"_parent\"><img src=\"https://colab.research.google.com/assets/colab-badge.svg\" alt=\"Open In Colab\"/></a>"
      ]
    },
    {
      "cell_type": "code",
      "metadata": {
        "id": "uYFuOmm9nRlf"
      },
      "source": [
        "import json\n",
        "import requests\n",
        "import logging\n",
        "import urllib\n",
        "import pandas as pd\n",
        "from datetime import datetime, date\n",
        "import dateutil.relativedelta\n",
        "\n",
        "today = date.today().strftime(\"%Y-%m-%d\") "
      ],
      "execution_count": null,
      "outputs": []
    },
    {
      "cell_type": "code",
      "metadata": {
        "id": "5XhMar3Ps-bm"
      },
      "source": [
        "apikey = \"XXXXXXXXXXXXXX\"\n",
        "columns = \"Xn,Dn,Rk,Or,Ot,Oc,FKn,FPn\"\n",
        "domain_list=[\"hp.com\",\"intuit.com\"]\n",
        "database=\"us\"\n",
        "end_date = today\n",
        "start_date_months_back = 12"
      ],
      "execution_count": null,
      "outputs": []
    },
    {
      "cell_type": "code",
      "metadata": {
        "colab": {
          "base_uri": "https://localhost:8080/"
        },
        "id": "oVwAip40ufD_",
        "outputId": "bf3d7c51-600f-453e-e4b4-f7928d37005f"
      },
      "source": [
        "shifted_timestamp = pd.Timestamp(today) - pd.DateOffset(months=start_date_months_back)\n",
        "start_date = shifted_timestamp.strftime(\"%Y-%m-%d\") \n",
        "\n",
        "date_list=pd.date_range(start_date,end_date, \n",
        "              freq='MS').strftime(\"%Y%m15\").tolist()\n",
        "\n",
        "date_list"
      ],
      "execution_count": null,
      "outputs": [
        {
          "output_type": "execute_result",
          "data": {
            "text/plain": [
              "['20201115',\n",
              " '20201215',\n",
              " '20210115',\n",
              " '20210215',\n",
              " '20210315',\n",
              " '20210415',\n",
              " '20210515',\n",
              " '20210615',\n",
              " '20210715',\n",
              " '20210815',\n",
              " '20210915',\n",
              " '20211015']"
            ]
          },
          "metadata": {},
          "execution_count": 190
        }
      ]
    },
    {
      "cell_type": "code",
      "metadata": {
        "id": "uJWTC9gGiZV0"
      },
      "source": [
        "# https://www.semrush.com/api-analytics/#rank\n",
        "\n",
        "def get_report_data(apikey,domain,database,columns,date):\n",
        "  '''\n",
        "  The get_report_data function takes the following parameters:\n",
        "    Args:\n",
        "      apikey: your API key\n",
        "      domain: the domain you want to analyze\n",
        "      database: The database to use. Can be \"us\", \"fr\", \"de\", \"uk\", \"au\", \"ca\", \"it\", \"nl\", \"es\", \"br\", \"ru\", \"jp\", \"in\", \"mx\", \"cn\", \"tr\", \"be\", \"dk\n",
        "      columns: The columns you want to export.\n",
        "      date: The date of the report.\n",
        "      Returns:\n",
        "        The report is being returned as a byte object.\n",
        "  '''\n",
        "    report = requests.get(\n",
        "        url=\"https://api.semrush.com\",\n",
        "        params={\n",
        "            \"type\": \"domain_rank\",\n",
        "            \"key\": apikey,\n",
        "            \"domain\": domain,\n",
        "            \"database\": database,\n",
        "            \"export_escape\": 1,\n",
        "            \"export_decode\": 1,\n",
        "            \"display_date\": date.replace('-',''),\n",
        "            \"export_columns\": columns\n",
        "        }\n",
        "    )\n",
        "    logging.info(report.status_code)\n",
        "    return report.content\n"
      ],
      "execution_count": null,
      "outputs": []
    },
    {
      "cell_type": "code",
      "metadata": {
        "id": "TOc7AKxEoHL2"
      },
      "source": [
        ""
      ],
      "execution_count": null,
      "outputs": []
    },
    {
      "cell_type": "code",
      "metadata": {
        "id": "TU80OotOkYpv"
      },
      "source": [
        "def parse_response(data):\n",
        "  '''\n",
        "  Parse the response from the server and return a list of dictionaries.\n",
        "  Args:\n",
        "    data: The data to be sent to the server.\n",
        "    Returns:\n",
        "      A list of dictionaries. Each dictionary is a row of data.\n",
        "  '''\n",
        "    results = []\n",
        "    data = data.decode('unicode_escape')\n",
        "    lines = data.split('\\r\\n')\n",
        "    lines = list(filter(bool, lines))\n",
        "    columns = lines[0].split(';')\n",
        "\n",
        "    for line in lines[1:]:\n",
        "        result = {}\n",
        "        for i, datum in enumerate(line.split(';')):\n",
        "            result[columns[i]] = datum.strip('\"\\n\\r\\t')\n",
        "        results.append(result)\n",
        "\n",
        "    return results"
      ],
      "execution_count": null,
      "outputs": []
    },
    {
      "cell_type": "code",
      "metadata": {
        "id": "Jq1FTJXvmp0S"
      },
      "source": [
        "# parsed_data = parse_response(data=data)\n",
        "# pd.DataFrame(parsed_data)"
      ],
      "execution_count": null,
      "outputs": []
    },
    {
      "cell_type": "code",
      "metadata": {
        "id": "stf6hASQmuh8"
      },
      "source": [
        "results = []\n",
        "for domain in domain_list:\n",
        "  for date in date_list:\n",
        "    data = get_report_data(apikey=apikey,database=database,domain=domain,columns=columns,date=date)\n",
        "    parsed_data = parse_response(data=data)\n",
        "    df = pd.DataFrame(parsed_data)\n",
        "    df['date']=date\n",
        "    results.append(df)\n"
      ],
      "execution_count": null,
      "outputs": []
    },
    {
      "cell_type": "code",
      "metadata": {
        "colab": {
          "base_uri": "https://localhost:8080/"
        },
        "id": "OSGYEYYjstMz",
        "outputId": "304838e1-5fe9-4cca-fcff-e3daf0a4192e"
      },
      "source": [
        "results"
      ],
      "execution_count": null,
      "outputs": [
        {
          "output_type": "execute_result",
          "data": {
            "text/plain": [
              "[   Domain Rank Organic Keywords Organic Traffic Organic Cost      date\n",
              " 0  hp.com  293          1722932        12705454     14165269  20201115,\n",
              "    Domain Rank Organic Keywords Organic Traffic Organic Cost      date\n",
              " 0  hp.com  291          1650115        13260222     12577652  20201215,\n",
              "    Domain Rank Organic Keywords Organic Traffic Organic Cost      date\n",
              " 0  hp.com  301          1628221        13001311     15306274  20210115,\n",
              "    Domain Rank Organic Keywords Organic Traffic Organic Cost      date\n",
              " 0  hp.com  300          1616413        13034083     13049697  20210215,\n",
              "    Domain Rank Organic Keywords Organic Traffic Organic Cost      date\n",
              " 0  hp.com  294          1601595        12973870     12897975  20210315,\n",
              "    Domain Rank Organic Keywords Organic Traffic Organic Cost      date\n",
              " 0  hp.com  320          1627557        12781148     16788152  20210415,\n",
              "    Domain Rank Organic Keywords Organic Traffic Organic Cost      date\n",
              " 0  hp.com  316          1655068        12898684     14047096  20210515,\n",
              "    Domain Rank Organic Keywords Organic Traffic Organic Cost      date\n",
              " 0  hp.com  306          1764076        13103424     14212803  20210615,\n",
              "    Domain Rank Organic Keywords Organic Traffic Organic Cost      date\n",
              " 0  hp.com  321          1885162        12959591     13513657  20210715,\n",
              "    Domain Rank Organic Keywords Organic Traffic Organic Cost      date\n",
              " 0  hp.com  318          1865414        12908670     13489326  20210815,\n",
              "    Domain Rank Organic Keywords Organic Traffic Organic Cost      date\n",
              " 0  hp.com  342          1872201        12474597     14111277  20210915,\n",
              " Empty DataFrame\n",
              " Columns: [date]\n",
              " Index: [],\n",
              "        Domain Rank Organic Keywords Organic Traffic Organic Cost      date\n",
              " 0  intuit.com  256          1126998        14690610     27511307  20201115,\n",
              "        Domain Rank Organic Keywords Organic Traffic Organic Cost      date\n",
              " 0  intuit.com  196          1251723        18343204     37498929  20201215,\n",
              "        Domain Rank Organic Keywords Organic Traffic Organic Cost      date\n",
              " 0  intuit.com  198          1269305        18042300     40121009  20210115,\n",
              "        Domain Rank Organic Keywords Organic Traffic Organic Cost      date\n",
              " 0  intuit.com  190          1296398        18485711     42024279  20210215,\n",
              "        Domain Rank Organic Keywords Organic Traffic Organic Cost      date\n",
              " 0  intuit.com  192          1307548        18244489     44208410  20210315,\n",
              "        Domain Rank Organic Keywords Organic Traffic Organic Cost      date\n",
              " 0  intuit.com  186          1283188        19723838     52507877  20210415,\n",
              "        Domain Rank Organic Keywords Organic Traffic Organic Cost      date\n",
              " 0  intuit.com  164          1300299        20658930     56189312  20210515,\n",
              "        Domain Rank Organic Keywords Organic Traffic Organic Cost      date\n",
              " 0  intuit.com  170          1273898        20460838     57411389  20210615,\n",
              "        Domain Rank Organic Keywords Organic Traffic Organic Cost      date\n",
              " 0  intuit.com  231          1197372        16636637     65359732  20210715,\n",
              "        Domain Rank Organic Keywords Organic Traffic Organic Cost      date\n",
              " 0  intuit.com  212          1281761        17254424     66309328  20210815,\n",
              "        Domain Rank Organic Keywords Organic Traffic Organic Cost      date\n",
              " 0  intuit.com  225          1254378        17008932     32218115  20210915,\n",
              " Empty DataFrame\n",
              " Columns: [date]\n",
              " Index: []]"
            ]
          },
          "metadata": {},
          "execution_count": 195
        }
      ]
    },
    {
      "cell_type": "code",
      "metadata": {
        "colab": {
          "base_uri": "https://localhost:8080/",
          "height": 739
        },
        "id": "caXaA0n2qF5o",
        "outputId": "81cfa23b-2328-4c84-88bf-d75e9bbd8915"
      },
      "source": [
        "pd.concat(results)"
      ],
      "execution_count": null,
      "outputs": [
        {
          "output_type": "execute_result",
          "data": {
            "text/html": [
              "<div>\n",
              "<style scoped>\n",
              "    .dataframe tbody tr th:only-of-type {\n",
              "        vertical-align: middle;\n",
              "    }\n",
              "\n",
              "    .dataframe tbody tr th {\n",
              "        vertical-align: top;\n",
              "    }\n",
              "\n",
              "    .dataframe thead th {\n",
              "        text-align: right;\n",
              "    }\n",
              "</style>\n",
              "<table border=\"1\" class=\"dataframe\">\n",
              "  <thead>\n",
              "    <tr style=\"text-align: right;\">\n",
              "      <th></th>\n",
              "      <th>Domain</th>\n",
              "      <th>Rank</th>\n",
              "      <th>Organic Keywords</th>\n",
              "      <th>Organic Traffic</th>\n",
              "      <th>Organic Cost</th>\n",
              "      <th>date</th>\n",
              "    </tr>\n",
              "  </thead>\n",
              "  <tbody>\n",
              "    <tr>\n",
              "      <th>0</th>\n",
              "      <td>hp.com</td>\n",
              "      <td>293</td>\n",
              "      <td>1722932</td>\n",
              "      <td>12705454</td>\n",
              "      <td>14165269</td>\n",
              "      <td>20201115</td>\n",
              "    </tr>\n",
              "    <tr>\n",
              "      <th>0</th>\n",
              "      <td>hp.com</td>\n",
              "      <td>291</td>\n",
              "      <td>1650115</td>\n",
              "      <td>13260222</td>\n",
              "      <td>12577652</td>\n",
              "      <td>20201215</td>\n",
              "    </tr>\n",
              "    <tr>\n",
              "      <th>0</th>\n",
              "      <td>hp.com</td>\n",
              "      <td>301</td>\n",
              "      <td>1628221</td>\n",
              "      <td>13001311</td>\n",
              "      <td>15306274</td>\n",
              "      <td>20210115</td>\n",
              "    </tr>\n",
              "    <tr>\n",
              "      <th>0</th>\n",
              "      <td>hp.com</td>\n",
              "      <td>300</td>\n",
              "      <td>1616413</td>\n",
              "      <td>13034083</td>\n",
              "      <td>13049697</td>\n",
              "      <td>20210215</td>\n",
              "    </tr>\n",
              "    <tr>\n",
              "      <th>0</th>\n",
              "      <td>hp.com</td>\n",
              "      <td>294</td>\n",
              "      <td>1601595</td>\n",
              "      <td>12973870</td>\n",
              "      <td>12897975</td>\n",
              "      <td>20210315</td>\n",
              "    </tr>\n",
              "    <tr>\n",
              "      <th>0</th>\n",
              "      <td>hp.com</td>\n",
              "      <td>320</td>\n",
              "      <td>1627557</td>\n",
              "      <td>12781148</td>\n",
              "      <td>16788152</td>\n",
              "      <td>20210415</td>\n",
              "    </tr>\n",
              "    <tr>\n",
              "      <th>0</th>\n",
              "      <td>hp.com</td>\n",
              "      <td>316</td>\n",
              "      <td>1655068</td>\n",
              "      <td>12898684</td>\n",
              "      <td>14047096</td>\n",
              "      <td>20210515</td>\n",
              "    </tr>\n",
              "    <tr>\n",
              "      <th>0</th>\n",
              "      <td>hp.com</td>\n",
              "      <td>306</td>\n",
              "      <td>1764076</td>\n",
              "      <td>13103424</td>\n",
              "      <td>14212803</td>\n",
              "      <td>20210615</td>\n",
              "    </tr>\n",
              "    <tr>\n",
              "      <th>0</th>\n",
              "      <td>hp.com</td>\n",
              "      <td>321</td>\n",
              "      <td>1885162</td>\n",
              "      <td>12959591</td>\n",
              "      <td>13513657</td>\n",
              "      <td>20210715</td>\n",
              "    </tr>\n",
              "    <tr>\n",
              "      <th>0</th>\n",
              "      <td>hp.com</td>\n",
              "      <td>318</td>\n",
              "      <td>1865414</td>\n",
              "      <td>12908670</td>\n",
              "      <td>13489326</td>\n",
              "      <td>20210815</td>\n",
              "    </tr>\n",
              "    <tr>\n",
              "      <th>0</th>\n",
              "      <td>hp.com</td>\n",
              "      <td>342</td>\n",
              "      <td>1872201</td>\n",
              "      <td>12474597</td>\n",
              "      <td>14111277</td>\n",
              "      <td>20210915</td>\n",
              "    </tr>\n",
              "    <tr>\n",
              "      <th>0</th>\n",
              "      <td>intuit.com</td>\n",
              "      <td>256</td>\n",
              "      <td>1126998</td>\n",
              "      <td>14690610</td>\n",
              "      <td>27511307</td>\n",
              "      <td>20201115</td>\n",
              "    </tr>\n",
              "    <tr>\n",
              "      <th>0</th>\n",
              "      <td>intuit.com</td>\n",
              "      <td>196</td>\n",
              "      <td>1251723</td>\n",
              "      <td>18343204</td>\n",
              "      <td>37498929</td>\n",
              "      <td>20201215</td>\n",
              "    </tr>\n",
              "    <tr>\n",
              "      <th>0</th>\n",
              "      <td>intuit.com</td>\n",
              "      <td>198</td>\n",
              "      <td>1269305</td>\n",
              "      <td>18042300</td>\n",
              "      <td>40121009</td>\n",
              "      <td>20210115</td>\n",
              "    </tr>\n",
              "    <tr>\n",
              "      <th>0</th>\n",
              "      <td>intuit.com</td>\n",
              "      <td>190</td>\n",
              "      <td>1296398</td>\n",
              "      <td>18485711</td>\n",
              "      <td>42024279</td>\n",
              "      <td>20210215</td>\n",
              "    </tr>\n",
              "    <tr>\n",
              "      <th>0</th>\n",
              "      <td>intuit.com</td>\n",
              "      <td>192</td>\n",
              "      <td>1307548</td>\n",
              "      <td>18244489</td>\n",
              "      <td>44208410</td>\n",
              "      <td>20210315</td>\n",
              "    </tr>\n",
              "    <tr>\n",
              "      <th>0</th>\n",
              "      <td>intuit.com</td>\n",
              "      <td>186</td>\n",
              "      <td>1283188</td>\n",
              "      <td>19723838</td>\n",
              "      <td>52507877</td>\n",
              "      <td>20210415</td>\n",
              "    </tr>\n",
              "    <tr>\n",
              "      <th>0</th>\n",
              "      <td>intuit.com</td>\n",
              "      <td>164</td>\n",
              "      <td>1300299</td>\n",
              "      <td>20658930</td>\n",
              "      <td>56189312</td>\n",
              "      <td>20210515</td>\n",
              "    </tr>\n",
              "    <tr>\n",
              "      <th>0</th>\n",
              "      <td>intuit.com</td>\n",
              "      <td>170</td>\n",
              "      <td>1273898</td>\n",
              "      <td>20460838</td>\n",
              "      <td>57411389</td>\n",
              "      <td>20210615</td>\n",
              "    </tr>\n",
              "    <tr>\n",
              "      <th>0</th>\n",
              "      <td>intuit.com</td>\n",
              "      <td>231</td>\n",
              "      <td>1197372</td>\n",
              "      <td>16636637</td>\n",
              "      <td>65359732</td>\n",
              "      <td>20210715</td>\n",
              "    </tr>\n",
              "    <tr>\n",
              "      <th>0</th>\n",
              "      <td>intuit.com</td>\n",
              "      <td>212</td>\n",
              "      <td>1281761</td>\n",
              "      <td>17254424</td>\n",
              "      <td>66309328</td>\n",
              "      <td>20210815</td>\n",
              "    </tr>\n",
              "    <tr>\n",
              "      <th>0</th>\n",
              "      <td>intuit.com</td>\n",
              "      <td>225</td>\n",
              "      <td>1254378</td>\n",
              "      <td>17008932</td>\n",
              "      <td>32218115</td>\n",
              "      <td>20210915</td>\n",
              "    </tr>\n",
              "  </tbody>\n",
              "</table>\n",
              "</div>"
            ],
            "text/plain": [
              "       Domain Rank Organic Keywords Organic Traffic Organic Cost      date\n",
              "0      hp.com  293          1722932        12705454     14165269  20201115\n",
              "0      hp.com  291          1650115        13260222     12577652  20201215\n",
              "0      hp.com  301          1628221        13001311     15306274  20210115\n",
              "0      hp.com  300          1616413        13034083     13049697  20210215\n",
              "0      hp.com  294          1601595        12973870     12897975  20210315\n",
              "0      hp.com  320          1627557        12781148     16788152  20210415\n",
              "0      hp.com  316          1655068        12898684     14047096  20210515\n",
              "0      hp.com  306          1764076        13103424     14212803  20210615\n",
              "0      hp.com  321          1885162        12959591     13513657  20210715\n",
              "0      hp.com  318          1865414        12908670     13489326  20210815\n",
              "0      hp.com  342          1872201        12474597     14111277  20210915\n",
              "0  intuit.com  256          1126998        14690610     27511307  20201115\n",
              "0  intuit.com  196          1251723        18343204     37498929  20201215\n",
              "0  intuit.com  198          1269305        18042300     40121009  20210115\n",
              "0  intuit.com  190          1296398        18485711     42024279  20210215\n",
              "0  intuit.com  192          1307548        18244489     44208410  20210315\n",
              "0  intuit.com  186          1283188        19723838     52507877  20210415\n",
              "0  intuit.com  164          1300299        20658930     56189312  20210515\n",
              "0  intuit.com  170          1273898        20460838     57411389  20210615\n",
              "0  intuit.com  231          1197372        16636637     65359732  20210715\n",
              "0  intuit.com  212          1281761        17254424     66309328  20210815\n",
              "0  intuit.com  225          1254378        17008932     32218115  20210915"
            ]
          },
          "metadata": {},
          "execution_count": 196
        }
      ]
    },
    {
      "cell_type": "code",
      "metadata": {
        "id": "PqsQMMl7qRQ5"
      },
      "source": [
        ""
      ],
      "execution_count": null,
      "outputs": []
    }
  ]
}