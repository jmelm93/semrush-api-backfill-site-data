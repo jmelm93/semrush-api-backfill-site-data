{
  "nbformat": 4,
  "nbformat_minor": 0,
  "metadata": {
    "colab": {
      "name": "Backfill_SEMRush_Data.ipynb",
      "provenance": [],
      "collapsed_sections": [],
      "authorship_tag": "ABX9TyNFaFiccFoIFCVkyCKcLcbJ",
      "include_colab_link": true
    },
    "kernelspec": {
      "name": "python3",
      "display_name": "Python 3"
    },
    "language_info": {
      "name": "python"
    }
  },
  "cells": [
    {
      "cell_type": "markdown",
      "metadata": {
        "id": "view-in-github",
        "colab_type": "text"
      },
      "source": [
        "<a href=\"https://colab.research.google.com/github/jmelm93/semrush-api-backfill-site-data/blob/main/Backfill_SEMRush_Data.ipynb\" target=\"_parent\"><img src=\"https://colab.research.google.com/assets/colab-badge.svg\" alt=\"Open In Colab\"/></a>"
      ]
    },
    {
      "cell_type": "code",
      "metadata": {
        "id": "uYFuOmm9nRlf"
      },
      "source": [
        "import json\n",
        "import requests\n",
        "import logging\n",
        "import urllib\n",
        "import pandas as pd\n",
        "from datetime import datetime, date\n",
        "import dateutil.relativedelta\n",
        "\n",
        "today = date.today().strftime(\"%Y-%m-%d\") "
      ],
      "execution_count": null,
      "outputs": []
    },
    {
      "cell_type": "code",
      "metadata": {
        "id": "5XhMar3Ps-bm"
      },
      "source": [
        "apikey = \"XXXXXXXX\"\n",
        "columns = \"Xn,Dn,Rk,Or,Ot,Oc,FKn,FPn\"\n",
        "domain_list=[\"hp.com\",\"intuit.com\"]\n",
        "database=\"us\"\n",
        "end_date = today\n",
        "start_date_months_back = 6"
      ],
      "execution_count": null,
      "outputs": []
    },
    {
      "cell_type": "code",
      "metadata": {
        "colab": {
          "base_uri": "https://localhost:8080/"
        },
        "id": "oVwAip40ufD_",
        "outputId": "a491d811-4f86-49ab-ee8c-1eeda54568c6"
      },
      "source": [
        "shifted_timestamp = pd.Timestamp(today) - pd.DateOffset(months=end_date_months_back)\n",
        "start_date = shifted_timestamp.strftime(\"%Y-%m-%d\") \n",
        "\n",
        "date_list=pd.date_range(start_date,end_date, \n",
        "              freq='MS').strftime(\"%Y%m15\").tolist()\n",
        "\n",
        "date_list"
      ],
      "execution_count": null,
      "outputs": [
        {
          "output_type": "execute_result",
          "data": {
            "text/plain": [
              "['20210515', '20210615', '20210715', '20210815', '20210915', '20211015']"
            ]
          },
          "metadata": {},
          "execution_count": 160
        }
      ]
    },
    {
      "cell_type": "code",
      "metadata": {
        "id": "uJWTC9gGiZV0"
      },
      "source": [
        "# https://www.semrush.com/api-analytics/#rank\n",
        "\n",
        "def get_report_data(apikey,domain,database,columns,date):\n",
        "    report = requests.get(\n",
        "        url=\"https://api.semrush.com\",\n",
        "        params={\n",
        "            \"type\": \"domain_rank\",\n",
        "            \"key\": apikey,\n",
        "            \"domain\": domain,\n",
        "            \"database\": database,\n",
        "            \"export_escape\": 1,\n",
        "            \"export_decode\": 1,\n",
        "            \"display_date\": date.replace('-',''),\n",
        "            \"export_columns\": columns\n",
        "        }\n",
        "    )\n",
        "    logging.info(report.status_code)\n",
        "    return report.content\n"
      ],
      "execution_count": null,
      "outputs": []
    },
    {
      "cell_type": "code",
      "metadata": {
        "id": "TOc7AKxEoHL2"
      },
      "source": [
        ""
      ],
      "execution_count": null,
      "outputs": []
    },
    {
      "cell_type": "code",
      "metadata": {
        "id": "TU80OotOkYpv"
      },
      "source": [
        "def parse_response(data):\n",
        "    results = []\n",
        "    data = data.decode('unicode_escape')\n",
        "    lines = data.split('\\r\\n')\n",
        "    lines = list(filter(bool, lines))\n",
        "    columns = lines[0].split(';')\n",
        "\n",
        "    for line in lines[1:]:\n",
        "        result = {}\n",
        "        for i, datum in enumerate(line.split(';')):\n",
        "            result[columns[i]] = datum.strip('\"\\n\\r\\t')\n",
        "        results.append(result)\n",
        "\n",
        "    return results"
      ],
      "execution_count": null,
      "outputs": []
    },
    {
      "cell_type": "code",
      "metadata": {
        "id": "Jq1FTJXvmp0S"
      },
      "source": [
        "# parsed_data = parse_response(data=data)\n",
        "# pd.DataFrame(parsed_data)"
      ],
      "execution_count": null,
      "outputs": []
    },
    {
      "cell_type": "code",
      "metadata": {
        "id": "stf6hASQmuh8"
      },
      "source": [
        "results = []\n",
        "for domain in domain_list:\n",
        "  for date in date_list:\n",
        "    data = get_report_data(apikey=apikey,database=database,domain=domain,columns=columns,date=date)\n",
        "    parsed_data = parse_response(data=data)\n",
        "    df = pd.DataFrame(parsed_data)\n",
        "    df['date']=date\n",
        "    results.append(df)\n"
      ],
      "execution_count": null,
      "outputs": []
    },
    {
      "cell_type": "code",
      "metadata": {
        "colab": {
          "base_uri": "https://localhost:8080/"
        },
        "id": "OSGYEYYjstMz",
        "outputId": "bff67efc-32a4-48ab-f58d-ea0519dcfcad"
      },
      "source": [
        "results"
      ],
      "execution_count": null,
      "outputs": [
        {
          "output_type": "execute_result",
          "data": {
            "text/plain": [
              "[   Domain Rank Organic Keywords Organic Traffic Organic Cost      date\n",
              " 0  hp.com  316          1655068        12898684     14047096  20210515,\n",
              "    Domain Rank Organic Keywords Organic Traffic Organic Cost      date\n",
              " 0  hp.com  306          1764076        13103424     14212803  20210615,\n",
              "    Domain Rank Organic Keywords Organic Traffic Organic Cost      date\n",
              " 0  hp.com  321          1885162        12959591     13513657  20210715,\n",
              "    Domain Rank Organic Keywords Organic Traffic Organic Cost      date\n",
              " 0  hp.com  318          1865414        12908670     13489326  20210815,\n",
              "    Domain Rank Organic Keywords Organic Traffic Organic Cost      date\n",
              " 0  hp.com  342          1872201        12474597     14111277  20210915,\n",
              " Empty DataFrame\n",
              " Columns: [date]\n",
              " Index: [],\n",
              "        Domain Rank Organic Keywords Organic Traffic Organic Cost      date\n",
              " 0  intuit.com  164          1300299        20658930     56189312  20210515,\n",
              "        Domain Rank Organic Keywords Organic Traffic Organic Cost      date\n",
              " 0  intuit.com  170          1273898        20460838     57411389  20210615,\n",
              "        Domain Rank Organic Keywords Organic Traffic Organic Cost      date\n",
              " 0  intuit.com  231          1197372        16636637     65359732  20210715,\n",
              "        Domain Rank Organic Keywords Organic Traffic Organic Cost      date\n",
              " 0  intuit.com  212          1281761        17254424     66309328  20210815,\n",
              "        Domain Rank Organic Keywords Organic Traffic Organic Cost      date\n",
              " 0  intuit.com  225          1254378        17008932     32218115  20210915,\n",
              " Empty DataFrame\n",
              " Columns: [date]\n",
              " Index: []]"
            ]
          },
          "metadata": {},
          "execution_count": 165
        }
      ]
    },
    {
      "cell_type": "code",
      "metadata": {
        "colab": {
          "base_uri": "https://localhost:8080/",
          "height": 363
        },
        "id": "caXaA0n2qF5o",
        "outputId": "85d0e3bc-8f7f-43a2-80e9-46c245512de6"
      },
      "source": [
        "pd.concat(results)"
      ],
      "execution_count": null,
      "outputs": [
        {
          "output_type": "execute_result",
          "data": {
            "text/html": [
              "<div>\n",
              "<style scoped>\n",
              "    .dataframe tbody tr th:only-of-type {\n",
              "        vertical-align: middle;\n",
              "    }\n",
              "\n",
              "    .dataframe tbody tr th {\n",
              "        vertical-align: top;\n",
              "    }\n",
              "\n",
              "    .dataframe thead th {\n",
              "        text-align: right;\n",
              "    }\n",
              "</style>\n",
              "<table border=\"1\" class=\"dataframe\">\n",
              "  <thead>\n",
              "    <tr style=\"text-align: right;\">\n",
              "      <th></th>\n",
              "      <th>Domain</th>\n",
              "      <th>Rank</th>\n",
              "      <th>Organic Keywords</th>\n",
              "      <th>Organic Traffic</th>\n",
              "      <th>Organic Cost</th>\n",
              "      <th>date</th>\n",
              "    </tr>\n",
              "  </thead>\n",
              "  <tbody>\n",
              "    <tr>\n",
              "      <th>0</th>\n",
              "      <td>hp.com</td>\n",
              "      <td>316</td>\n",
              "      <td>1655068</td>\n",
              "      <td>12898684</td>\n",
              "      <td>14047096</td>\n",
              "      <td>20210515</td>\n",
              "    </tr>\n",
              "    <tr>\n",
              "      <th>0</th>\n",
              "      <td>hp.com</td>\n",
              "      <td>306</td>\n",
              "      <td>1764076</td>\n",
              "      <td>13103424</td>\n",
              "      <td>14212803</td>\n",
              "      <td>20210615</td>\n",
              "    </tr>\n",
              "    <tr>\n",
              "      <th>0</th>\n",
              "      <td>hp.com</td>\n",
              "      <td>321</td>\n",
              "      <td>1885162</td>\n",
              "      <td>12959591</td>\n",
              "      <td>13513657</td>\n",
              "      <td>20210715</td>\n",
              "    </tr>\n",
              "    <tr>\n",
              "      <th>0</th>\n",
              "      <td>hp.com</td>\n",
              "      <td>318</td>\n",
              "      <td>1865414</td>\n",
              "      <td>12908670</td>\n",
              "      <td>13489326</td>\n",
              "      <td>20210815</td>\n",
              "    </tr>\n",
              "    <tr>\n",
              "      <th>0</th>\n",
              "      <td>hp.com</td>\n",
              "      <td>342</td>\n",
              "      <td>1872201</td>\n",
              "      <td>12474597</td>\n",
              "      <td>14111277</td>\n",
              "      <td>20210915</td>\n",
              "    </tr>\n",
              "    <tr>\n",
              "      <th>0</th>\n",
              "      <td>intuit.com</td>\n",
              "      <td>164</td>\n",
              "      <td>1300299</td>\n",
              "      <td>20658930</td>\n",
              "      <td>56189312</td>\n",
              "      <td>20210515</td>\n",
              "    </tr>\n",
              "    <tr>\n",
              "      <th>0</th>\n",
              "      <td>intuit.com</td>\n",
              "      <td>170</td>\n",
              "      <td>1273898</td>\n",
              "      <td>20460838</td>\n",
              "      <td>57411389</td>\n",
              "      <td>20210615</td>\n",
              "    </tr>\n",
              "    <tr>\n",
              "      <th>0</th>\n",
              "      <td>intuit.com</td>\n",
              "      <td>231</td>\n",
              "      <td>1197372</td>\n",
              "      <td>16636637</td>\n",
              "      <td>65359732</td>\n",
              "      <td>20210715</td>\n",
              "    </tr>\n",
              "    <tr>\n",
              "      <th>0</th>\n",
              "      <td>intuit.com</td>\n",
              "      <td>212</td>\n",
              "      <td>1281761</td>\n",
              "      <td>17254424</td>\n",
              "      <td>66309328</td>\n",
              "      <td>20210815</td>\n",
              "    </tr>\n",
              "    <tr>\n",
              "      <th>0</th>\n",
              "      <td>intuit.com</td>\n",
              "      <td>225</td>\n",
              "      <td>1254378</td>\n",
              "      <td>17008932</td>\n",
              "      <td>32218115</td>\n",
              "      <td>20210915</td>\n",
              "    </tr>\n",
              "  </tbody>\n",
              "</table>\n",
              "</div>"
            ],
            "text/plain": [
              "       Domain Rank Organic Keywords Organic Traffic Organic Cost      date\n",
              "0      hp.com  316          1655068        12898684     14047096  20210515\n",
              "0      hp.com  306          1764076        13103424     14212803  20210615\n",
              "0      hp.com  321          1885162        12959591     13513657  20210715\n",
              "0      hp.com  318          1865414        12908670     13489326  20210815\n",
              "0      hp.com  342          1872201        12474597     14111277  20210915\n",
              "0  intuit.com  164          1300299        20658930     56189312  20210515\n",
              "0  intuit.com  170          1273898        20460838     57411389  20210615\n",
              "0  intuit.com  231          1197372        16636637     65359732  20210715\n",
              "0  intuit.com  212          1281761        17254424     66309328  20210815\n",
              "0  intuit.com  225          1254378        17008932     32218115  20210915"
            ]
          },
          "metadata": {},
          "execution_count": 166
        }
      ]
    },
    {
      "cell_type": "code",
      "metadata": {
        "id": "PqsQMMl7qRQ5"
      },
      "source": [
        ""
      ],
      "execution_count": null,
      "outputs": []
    }
  ]
}