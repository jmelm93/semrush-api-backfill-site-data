{
  "nbformat": 4,
  "nbformat_minor": 0,
  "metadata": {
    "colab": {
      "name": "Backfill_SEMRush_Data.ipynb",
      "provenance": [],
      "collapsed_sections": [],
      "authorship_tag": "ABX9TyODbuhZRnmaXmJzNXPzNtnC",
      "include_colab_link": true
    },
    "kernelspec": {
      "name": "python3",
      "display_name": "Python 3"
    },
    "language_info": {
      "name": "python"
    }
  },
  "cells": [
    {
      "cell_type": "markdown",
      "metadata": {
        "id": "view-in-github",
        "colab_type": "text"
      },
      "source": [
        "<a href=\"https://colab.research.google.com/github/jmelm93/semrush-api-backfill-site-data/blob/main/Backfill_SEMRush_Data.ipynb\" target=\"_parent\"><img src=\"https://colab.research.google.com/assets/colab-badge.svg\" alt=\"Open In Colab\"/></a>"
      ]
    },
    {
      "cell_type": "code",
      "metadata": {
        "id": "uYFuOmm9nRlf"
      },
      "source": [
        "import json\n",
        "import requests\n",
        "import logging\n",
        "import urllib\n",
        "import pandas as pd\n",
        "from datetime import datetime, date\n",
        "import dateutil.relativedelta\n",
        "\n",
        "today = date.today().strftime(\"%Y-%m-%d\") "
      ],
      "execution_count": 28,
      "outputs": []
    },
    {
      "cell_type": "code",
      "metadata": {
        "id": "5XhMar3Ps-bm"
      },
      "source": [
        "apikey = \"XXXXXXXXXXXXXXX\"\n",
        "columns = \"Xn,Dn,Rk,Or,Ot,Oc,FKn,FPn\"\n",
        "domain_list=[\"layla.com\",\"inseev.com\"]\n",
        "database=\"us\"\n",
        "end_date = today\n",
        "start_date_months_back = 12"
      ],
      "execution_count": 29,
      "outputs": []
    },
    {
      "cell_type": "code",
      "metadata": {
        "id": "oVwAip40ufD_"
      },
      "source": [
        "shifted_timestamp = pd.Timestamp(today) - pd.DateOffset(months=start_date_months_back)\n",
        "start_date = shifted_timestamp.strftime(\"%Y-%m-%d\") \n",
        "\n",
        "date_list=pd.date_range(start_date,end_date, \n",
        "              freq='MS').strftime(\"%Y%m15\").tolist()\n",
        "\n",
        "date_list"
      ],
      "execution_count": null,
      "outputs": []
    },
    {
      "cell_type": "code",
      "metadata": {
        "id": "uJWTC9gGiZV0"
      },
      "source": [
        "# https://www.semrush.com/api-analytics/#rank\n",
        "\n",
        "def get_report_data(apikey,domain,database,columns,date):\n",
        "  \"\"\"The get_report_data function takes the following parameters:\n",
        "\n",
        "      Args:\n",
        "        apikey: your API key\n",
        "        domain: the domain you want to analyze\n",
        "        database: The database to use. Can be \"us\", \"fr\", \"de\", \"uk\", \"au\", \"ca\", \"it\", \"nl\", \"es\", \"br\", \"ru\", \"jp\", \"in\", \"mx\", \"cn\", \"tr\", \"be\", \"dk\"\n",
        "        columns: The columns you want to export.\n",
        "        date: The date of the report.\n",
        "\n",
        "      Returns:\n",
        "        The report is being returned as a byte object.\n",
        "          \n",
        "  \"\"\"\n",
        "  report = requests.get(\n",
        "      url=\"https://api.semrush.com\",\n",
        "      params={\n",
        "          \"type\": \"domain_rank\",\n",
        "          \"key\": apikey,\n",
        "          \"domain\": domain,\n",
        "          \"database\": database,\n",
        "          \"export_escape\": 1,\n",
        "          \"export_decode\": 1,\n",
        "          \"display_date\": date.replace('-',''),\n",
        "          \"export_columns\": columns\n",
        "      }\n",
        "  )\n",
        "  logging.info(report.status_code)\n",
        "  return report.content\n"
      ],
      "execution_count": 31,
      "outputs": []
    },
    {
      "cell_type": "code",
      "metadata": {
        "id": "TU80OotOkYpv"
      },
      "source": [
        "def parse_response(data):\n",
        "  \"\"\"Parse the response from the server and return a list of dictionaries.\n",
        "      \n",
        "      Args:\n",
        "        data: The data to be sent to the server.\n",
        "      \n",
        "      Returns:\n",
        "        A list of dictionaries. Each dictionary is a row of data.\n",
        "  \"\"\"\n",
        "  results = []\n",
        "  data = data.decode('unicode_escape')\n",
        "  lines = data.split('\\r\\n')\n",
        "  lines = list(filter(bool, lines))\n",
        "  columns = lines[0].split(';')\n",
        "\n",
        "  for line in lines[1:]:\n",
        "      result = {}\n",
        "      for i, datum in enumerate(line.split(';')):\n",
        "          result[columns[i]] = datum.strip('\"\\n\\r\\t')\n",
        "      results.append(result)\n",
        "\n",
        "  return results"
      ],
      "execution_count": 32,
      "outputs": []
    },
    {
      "cell_type": "code",
      "metadata": {
        "id": "stf6hASQmuh8"
      },
      "source": [
        "results = []\n",
        "for domain in domain_list:\n",
        "  for date in date_list:\n",
        "    data = get_report_data(apikey=apikey,database=database,domain=domain,columns=columns,date=date)\n",
        "    parsed_data = parse_response(data=data)\n",
        "    df = pd.DataFrame(parsed_data)\n",
        "    df['date']=date\n",
        "    results.append(df)\n"
      ],
      "execution_count": 34,
      "outputs": []
    },
    {
      "cell_type": "code",
      "metadata": {
        "id": "OSGYEYYjstMz"
      },
      "source": [
        "results"
      ],
      "execution_count": null,
      "outputs": []
    },
    {
      "cell_type": "code",
      "metadata": {
        "id": "caXaA0n2qF5o"
      },
      "source": [
        "pd.concat(results)"
      ],
      "execution_count": null,
      "outputs": []
    }
  ]
}